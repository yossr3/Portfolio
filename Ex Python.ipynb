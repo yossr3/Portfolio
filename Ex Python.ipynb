{
  "nbformat": 4,
  "nbformat_minor": 0,
  "metadata": {
    "colab": {
      "provenance": []
    },
    "kernelspec": {
      "name": "python3",
      "display_name": "Python 3"
    },
    "language_info": {
      "name": "python"
    }
  },
  "cells": [
    {
      "cell_type": "code",
      "execution_count": null,
      "metadata": {
        "colab": {
          "base_uri": "https://localhost:8080/"
        },
        "id": "XmhKKUOQ4RwA",
        "outputId": "5ef5258b-6efd-4071-f77f-07bc42c0cfef"
      },
      "outputs": [
        {
          "output_type": "stream",
          "name": "stdout",
          "text": [
            "saisir un teste :bb vv\n",
            "['bb', 'vv']\n",
            "le dict: {'bb': 2, 'vv': 2}\n"
          ]
        }
      ],
      "source": [
        "t=input(\"saisir un teste :\")\n",
        "liste_mots = t.split()\n",
        "print (liste_mots)\n",
        "d=dict({})\n",
        "for mot in liste_mots:\n",
        "   d[mot] = len(mot)\n",
        "print (\"le dict:\",d)\n",
        "\n"
      ]
    },
    {
      "cell_type": "code",
      "source": [
        "d = {\"Aladin\": [12, 15 , 17] , \"Nathalie\" : [15, 13 , 16] , \"Robert\": [13, 15 , 11] }\n",
        "d_moyenne={}\n",
        "for key,value in d.items():\n",
        "  m=0\n",
        "  for x in value:\n",
        "    m=m+x\n",
        "  m=m/len(value)\n",
        "  d_moyenne[key]=round(m,2)\n",
        "print(d_moyenne)\n"
      ],
      "metadata": {
        "colab": {
          "base_uri": "https://localhost:8080/"
        },
        "id": "2M1DApbxAyuo",
        "outputId": "d34bdc61-a78e-464e-c819-fd534e7f1166"
      },
      "execution_count": null,
      "outputs": [
        {
          "output_type": "stream",
          "name": "stdout",
          "text": [
            "{'Aladin': 14.67, 'Nathalie': 14.67, 'Robert': 13.0}\n"
          ]
        }
      ]
    },
    {
      "cell_type": "code",
      "source": [
        "students = {'id1':  {'name': 'Catherine' , 'section': 'SVT', 'age': 17},\n",
        "                'id2':  {'name': 'Majid' , 'section': 'Math', 'age': 18},\n",
        "                'id3':  {'name': 'Catherine' , 'section': 'SVT', 'age': 17},\n",
        "                'id4':  {'name': 'Robert' , 'section': 'Physique', 'age': 19}\n",
        "                }\n",
        "\n",
        "d_res=dict({})\n",
        "for key,data in students.items():\n",
        "  if data not in d_res.values():\n",
        "    d_res[key]=data\n",
        "print(d_res)\n"
      ],
      "metadata": {
        "colab": {
          "base_uri": "https://localhost:8080/"
        },
        "id": "lEniI5rBEBtE",
        "outputId": "7e381b51-abe7-4396-94a3-c12d4a291fe4"
      },
      "execution_count": null,
      "outputs": [
        {
          "output_type": "stream",
          "name": "stdout",
          "text": [
            "{'id1': {'name': 'Catherine', 'section': 'SVT', 'age': 17}, 'id2': {'name': 'Majid', 'section': 'Math', 'age': 18}, 'id4': {'name': 'Robert', 'section': 'Physique', 'age': 19}}\n"
          ]
        }
      ]
    },
    {
      "cell_type": "code",
      "source": [
        "liste=[]\n",
        "for x in range(2):\n",
        "    x=int(input(\"Donner un entier: \"))\n",
        "    liste.append(x)\n",
        "liste.sort()\n",
        "print(liste)\n"
      ],
      "metadata": {
        "colab": {
          "base_uri": "https://localhost:8080/"
        },
        "id": "QgNJR48UGTlr",
        "outputId": "e312a9de-c23e-46b2-ff79-189b1b18a3ce"
      },
      "execution_count": null,
      "outputs": [
        {
          "output_type": "stream",
          "name": "stdout",
          "text": [
            "Donner un entier: 1\n",
            "Donner un entier: 5\n",
            "[1, 5]\n"
          ]
        }
      ]
    },
    {
      "cell_type": "code",
      "source": [
        "\n",
        "liste1=[]\n",
        "liste2=[]\n",
        "liste3=[]\n",
        "n=int(input('n? '))\n",
        "for i in range (n):\n",
        "    x=int(input(\"Donner une valeur: \"))\n",
        "    liste1.append(x)\n",
        "for i in range (n):\n",
        "    y=input(\"Donner un caractère: \")\n",
        "    liste2.append(y)\n",
        "liste3.extend(liste2)\n",
        "liste3.extend(liste1)   #for i in range (n):\n",
        "   # liste3.append(liste1[i])\n",
        "    #liste3.append(liste2[i])\n",
        "\n",
        "print(liste3)\n"
      ],
      "metadata": {
        "colab": {
          "base_uri": "https://localhost:8080/"
        },
        "id": "V1ZavhulHbqr",
        "outputId": "e817d99c-8418-4fa8-e6c1-198949884e10"
      },
      "execution_count": null,
      "outputs": [
        {
          "output_type": "stream",
          "name": "stdout",
          "text": [
            "n? 1\n",
            "Donner une valeur: 4\n",
            "Donner un caractère: l\n",
            "['l', 4]\n"
          ]
        }
      ]
    },
    {
      "cell_type": "code",
      "source": [
        "n=0\n",
        "while(n<=0):\n",
        "    n=int(input(\"saisir n \"))\n",
        "ch=str(n)\n",
        "print(ch)\n",
        "s=0\n",
        "for i in range(0,len(ch)):\n",
        "    s+=int(ch[i])\n",
        "print(s)\n"
      ],
      "metadata": {
        "colab": {
          "base_uri": "https://localhost:8080/"
        },
        "id": "gk4hmhAkLRKJ",
        "outputId": "20a6cd88-8578-472e-9e78-229e22c4d613"
      },
      "execution_count": null,
      "outputs": [
        {
          "output_type": "stream",
          "name": "stdout",
          "text": [
            "saisir n 645\n",
            "645\n",
            "15\n"
          ]
        }
      ]
    },
    {
      "cell_type": "code",
      "source": [
        "\n",
        "def second(h, m, s):\n",
        "\n",
        " return int(h) * 3600 + int(m) * 60 + int(s)\n",
        "\n",
        "print(second(1, 10, 30))\n"
      ],
      "metadata": {
        "colab": {
          "base_uri": "https://localhost:8080/"
        },
        "id": "IY3cmNeKZApi",
        "outputId": "9eaef3e5-d880-4397-e553-c5d7293d8b1a"
      },
      "execution_count": null,
      "outputs": [
        {
          "output_type": "stream",
          "name": "stdout",
          "text": [
            "4230\n"
          ]
        }
      ]
    },
    {
      "cell_type": "code",
      "source": [
        "def second(h, m, s, h1, m1, s1):\n",
        "\n",
        " return (int(h) * 3600 + int(m) * 60 + int(s)) - (int(h1) * 3600 + int(m1) * 60 + int(s1))\n",
        "\n",
        "\n",
        "print(second(1, 10, 30, 1, 20, 50))\n"
      ],
      "metadata": {
        "colab": {
          "base_uri": "https://localhost:8080/"
        },
        "id": "D2awvETpIunq",
        "outputId": "cb64c5a3-09a1-42e3-fbe9-33374e1a96d4"
      },
      "execution_count": null,
      "outputs": [
        {
          "output_type": "stream",
          "name": "stdout",
          "text": [
            "-620\n"
          ]
        }
      ]
    },
    {
      "cell_type": "code",
      "source": [
        "def fact(n):\n",
        "    if n == 0:\n",
        "        return 1\n",
        "    else:\n",
        "        return n * fact(n-1)\n",
        "\n",
        "def facto(n,p):\n",
        "    c=fact(n)/fact(p)*fact(n-p)\n",
        "    return c\n"
      ],
      "metadata": {
        "id": "KeiOUaJyayxf"
      },
      "execution_count": null,
      "outputs": []
    },
    {
      "cell_type": "markdown",
      "source": [
        "                                                              TP2\n",
        "                                                    "
      ],
      "metadata": {
        "id": "jPgvzDPBdZOX"
      }
    },
    {
      "cell_type": "code",
      "source": [
        "lstButs=['FCB','REA','REA','FCB','FCB']\n",
        "if lstButs.count('FCB')<lstButs.count('REA'):\n",
        "    print(\"REA est l'équipe gagante\")\n",
        "elif lstButs.count('FCB')>lstButs.count('REA'):\n",
        "    print(\"FCB est l'équipe gagante\")\n",
        "else:\n",
        "    print(\"égalité\")\n"
      ],
      "metadata": {
        "colab": {
          "base_uri": "https://localhost:8080/"
        },
        "id": "-lUkwzuObcsY",
        "outputId": "41836d6e-3ab8-4d1c-caa6-9e02af7fd44d"
      },
      "execution_count": null,
      "outputs": [
        {
          "output_type": "stream",
          "name": "stdout",
          "text": [
            "FCB est l'équipe gagante\n"
          ]
        }
      ]
    },
    {
      "cell_type": "code",
      "source": [
        "A = int(input(\"Donner le nombre A : \"))\n",
        "B = int(input(\"Donner le nombre B : \"))\n",
        "c = A\n",
        "d = 0\n",
        "\n",
        "while c >= B:\n",
        "    c = c - B\n",
        "    d = d + 1\n",
        "\n",
        "print(\"c=\" ,c)\n",
        "print(\"d=\" ,d)"
      ],
      "metadata": {
        "colab": {
          "base_uri": "https://localhost:8080/"
        },
        "id": "KXfkoaZ_14wc",
        "outputId": "81ec83a9-649a-4cc4-94e2-9e708dc0eb6f"
      },
      "execution_count": null,
      "outputs": [
        {
          "output_type": "stream",
          "name": "stdout",
          "text": [
            "Donner le nombre A : 15\n",
            "Donner le nombre B : 2\n",
            "c= 1\n",
            "d= 7\n"
          ]
        }
      ]
    },
    {
      "cell_type": "code",
      "source": [
        "\n",
        "    if y != 0:\n",
        "        resultat = x / y\n",
        "    else:\n",
        "        print(\"La division par zéro n'est pas autorisée.\")\n",
        "        resultat = None"
      ],
      "metadata": {
        "id": "8m5VuZJCsKti"
      },
      "execution_count": null,
      "outputs": []
    },
    {
      "cell_type": "code",
      "source": [
        " 10 * 50 + 20 * 40 + (nombre_de_photocopies - 30) * 30"
      ],
      "metadata": {
        "id": "ydhaey81sQ80"
      },
      "execution_count": null,
      "outputs": []
    },
    {
      "cell_type": "code",
      "source": [
        "L=[1,1,0,0,1,0,1,1,1,0,1,1]\n",
        "Nmax=0\n",
        "for i in range (len(L)):\n",
        "    pos=i\n",
        "    n=0\n",
        "    while(i<len(L) and L[i]==1):\n",
        "        n+=1\n",
        "        i+=1\n",
        "    if (n>Nmax):\n",
        "        Nmax=n\n",
        "        pos1=pos\n",
        "print('la position est',pos1,'de taille',Nmax)\n"
      ],
      "metadata": {
        "colab": {
          "base_uri": "https://localhost:8080/"
        },
        "id": "FYQCyO9sdIfo",
        "outputId": "a77f2bb4-5c35-4f8d-d052-a3c7675285cf"
      },
      "execution_count": null,
      "outputs": [
        {
          "output_type": "stream",
          "name": "stdout",
          "text": [
            "la position est 6 de taille 3\n"
          ]
        }
      ]
    },
    {
      "cell_type": "code",
      "source": [
        "\n",
        "l=[('yosr',20),('ons',10),('ghada',15)]\n",
        "Lr=[]\n",
        "t=()\n",
        "s=0\n",
        "m=(\"\",0)\n",
        "for i in l:\n",
        "  if (i[1]>=10):\n",
        "    t=t+(i[0],)\n",
        "  s=s+i[1]\n",
        "  if (i[1]>m[1]):\n",
        "    m=(i[0],i[1])\n",
        "Lr.append(t)\n",
        "Lr.append(m)\n",
        "Lr.append(s/len(L))\n",
        "print(Lr)\n",
        "\n"
      ],
      "metadata": {
        "colab": {
          "base_uri": "https://localhost:8080/"
        },
        "id": "zWyjZ19wfEW2",
        "outputId": "f6b99ae8-71c0-4346-ae6a-ee74033812a3"
      },
      "execution_count": null,
      "outputs": [
        {
          "output_type": "stream",
          "name": "stdout",
          "text": [
            "[('yosr', 'ons', 'ghada'), ('yosr', 20), 3.75]\n"
          ]
        }
      ]
    },
    {
      "cell_type": "code",
      "source": [
        "test=False\n",
        "while test==False:\n",
        "    ADN=input(\"Donner une chaine d'ADN: \")\n",
        "    test=True\n",
        "    for c in ADN:\n",
        "        if c not in 'acgt':\n",
        "            test=False\n",
        "            break\n",
        "test=False\n",
        "while test==False:\n",
        "    sq=input(\"donner une sequence :\")\n",
        "    test=True\n",
        "    for c in sq:\n",
        "        if c not in 'acgt':\n",
        "            test=False\n",
        "            break\n",
        "print(\"il y a\",ADN.count(sq),\"de\",sq,\"dans votre chaine\")\n"
      ],
      "metadata": {
        "colab": {
          "base_uri": "https://localhost:8080/"
        },
        "id": "rXN0t9SUjPFD",
        "outputId": "b5527983-813c-4bb7-ef3d-a27edb8c1bcd"
      },
      "execution_count": null,
      "outputs": [
        {
          "output_type": "stream",
          "name": "stdout",
          "text": [
            "Donner une chaine d'ADN: gtacgtacgtttcacagtt\n",
            "donner une sequence :gt\n",
            "il y a 4 de gt dans votre chaine\n"
          ]
        }
      ]
    },
    {
      "cell_type": "code",
      "source": [
        "dico={'computer':'ordinateur','mouse':'souris'}\n",
        "\n",
        "\n",
        "d_inv={}\n",
        "   #for cle in dico:\n",
        "   # val=dico[cle]\n",
        "for key,values in d.items():\n",
        "    d_inv[values]=key\n",
        "\n",
        "print(dico)\n",
        "print(d_inv)\n",
        "\n"
      ],
      "metadata": {
        "colab": {
          "base_uri": "https://localhost:8080/"
        },
        "id": "ZcFdBjookThV",
        "outputId": "1f1265e9-dd74-4949-99e8-30e206d90ec9"
      },
      "execution_count": null,
      "outputs": [
        {
          "output_type": "stream",
          "name": "stdout",
          "text": [
            "{'computer': 'ordinateur', 'mouse': 'souris'}\n",
            "{'ordinateur': 'computer', 'souris': 'mouse'}\n"
          ]
        }
      ]
    },
    {
      "cell_type": "code",
      "source": [
        "class CompteBancaire:\n",
        "\n",
        "    def __init__(self,numeroCompte,nom,solde):\n",
        "         self.numeroCompte=numeroCompte\n",
        "         self.nom=nom\n",
        "         self.solde=solde\n",
        "    def Versement(self,argent):\n",
        "        self.solde=self.solde+argent\n",
        "    def retrait(self,argent):\n",
        "        if(self.solde<argent):\n",
        "            print(\"impossible d'effectuer l'opération.Solde insuffisant !\")\n",
        "        else:\n",
        "            self.solde=self.solde-argent\n",
        "    def frais(self):\n",
        "        self.solde=self.solde*95/100\n",
        "    def afficher(self):\n",
        "        print(\"Compte numéro : \",self.numeroCompte)\n",
        "        print(\"Nom: \",self.nom)\n",
        "        print(\"Solde:\" ,self.solde,\"DH\")\n",
        "moncompte=CompteBancaire(1254869,\"Ons\",20359)\n",
        "moncompte.Versement(12354)\n",
        "moncompte.retrait(254895)\n",
        "moncompte.afficher()\n"
      ],
      "metadata": {
        "colab": {
          "base_uri": "https://localhost:8080/"
        },
        "id": "JkNM0p7OmrSg",
        "outputId": "5cbce090-0b3f-44b1-e7ae-075ce5990e54"
      },
      "execution_count": null,
      "outputs": [
        {
          "output_type": "stream",
          "name": "stdout",
          "text": [
            "impossible d'effectuer l'opération.Solde insuffisant !\n",
            "Compte numéro :  1254869\n",
            "Nom:  Ons\n",
            "Solde: 32713 DH\n"
          ]
        }
      ]
    },
    {
      "cell_type": "code",
      "source": [
        "class compteBancaire:\n",
        "\n",
        "    def __init__(self, numeroCompte, nom, solde):\n",
        "        self.numeroCompte=numeroCompte\n",
        "        self.nom=nom\n",
        "        self.solde=solde\n",
        "\n",
        "    def versement(self, montant):\n",
        "        self.solde+=montant\n",
        "\n",
        "    def retrait(self, numCompte, montant):\n",
        "        self.solde-=montant\n",
        "\n",
        "    def frais(self):\n",
        "        self.solde=self.solde-(self.solde*0.05)\n",
        "\n",
        "    def affichage(self):\n",
        "        print(\"le compte numero: \",self.numeroCompte,\" de \",self.nom,\" a une solde=\",self.solde)\n",
        "\n",
        "a=compteBancaire('12345','mouh',1500)\n",
        "a.versement(300)\n",
        "a.retrait('12345',100)\n",
        "a.frais()\n",
        "a.affichage()\n"
      ],
      "metadata": {
        "colab": {
          "base_uri": "https://localhost:8080/"
        },
        "id": "EkdjeFmutfai",
        "outputId": "75d2e2f5-b263-4b9a-e3e0-4ea331cf1637"
      },
      "execution_count": null,
      "outputs": [
        {
          "output_type": "stream",
          "name": "stdout",
          "text": [
            "le compte numero:  12345  de  mouh  a une solde= 1615.0\n"
          ]
        }
      ]
    },
    {
      "cell_type": "code",
      "source": [
        "class Rectangle:\n",
        " def __init__(self, longueur=30, largeur=15):\n",
        "     self.L, self.l = longueur, largeur\n",
        "     self.nom = \"rectangle\"\n",
        "def __str__(self):\n",
        "\n",
        "  return \"nom : {}\".format(self.nom)\n",
        "class Carre(Rectangle):\n",
        "    def __init__(self, cote=20):\n",
        "         super().__init__(cote, cote)\n",
        "         self.nom = \"carré\"\n",
        "\n",
        "\n",
        "r = Rectangle()\n",
        "c = Carre()\n",
        "print(r)\n",
        "print(c)\n"
      ],
      "metadata": {
        "colab": {
          "base_uri": "https://localhost:8080/"
        },
        "id": "EDvC8R4otr61",
        "outputId": "53fa798d-eaa4-47de-c1ab-7acfbce3a754"
      },
      "execution_count": null,
      "outputs": [
        {
          "output_type": "stream",
          "name": "stdout",
          "text": [
            "<__main__.Rectangle object at 0x7fb31ac5d2d0>\n",
            "<__main__.Carre object at 0x7fb3235a7e90>\n"
          ]
        }
      ]
    },
    {
      "cell_type": "code",
      "source": [
        "class Point:\n",
        "    def __init__(self,x=0.0,y=0.0):\n",
        "        self.px=x\n",
        "        self.py=y\n",
        "class Segment:\n",
        "    def __init__(self,x1,y1,x2,y2):\n",
        "        self.orig=Point(x1,y1)\n",
        "        self.ext=Point(x2,y2)\n",
        "        #méthode statique pour l'affichage\n",
        "    def __str__(self):\n",
        "        return(\"Segment : [({},{}),({},{})]\".format(self.orig.px,self.orig.py,self.ext.px,self.ext.py))\n",
        "\n",
        "S=Segment(2,3,5,8)\n",
        "print(S)\n"
      ],
      "metadata": {
        "colab": {
          "base_uri": "https://localhost:8080/"
        },
        "id": "6QDVoxc8vz_h",
        "outputId": "6793e0f6-6b24-4b65-f1ed-c89e59e9d9bc"
      },
      "execution_count": null,
      "outputs": [
        {
          "output_type": "stream",
          "name": "stdout",
          "text": [
            "Segment : [(2,3),(5,8)]\n"
          ]
        }
      ]
    },
    {
      "cell_type": "code",
      "source": [
        "def pente(xa,ya,xb,yb):\n",
        "    try:\n",
        "        p=(yb-ya)/(xb-xa)\n",
        "        return p\n",
        "    except ZeroDivisionError:\n",
        "        print(\"désolé dévision par zero impossible\")\n",
        "\n",
        "print(pente(2,4,6,8))\n"
      ],
      "metadata": {
        "colab": {
          "base_uri": "https://localhost:8080/"
        },
        "id": "DYfRc59VyH_I",
        "outputId": "a4bfc4ee-fe21-4eb0-ac98-afa6ab26d384"
      },
      "execution_count": null,
      "outputs": [
        {
          "output_type": "stream",
          "name": "stdout",
          "text": [
            "1.0\n"
          ]
        }
      ]
    },
    {
      "cell_type": "markdown",
      "source": [],
      "metadata": {
        "id": "CcSnUwO1ad1m"
      }
    },
    {
      "cell_type": "code",
      "source": [
        "def creation():\n",
        "    print(\"***veuillez entrer les donnees (ou<entre>pour terminer):\")\n",
        "    nom=input(\"nom: \")\n",
        "    if nom==\"\":\n",
        "        return[]\n",
        "    else:\n",
        "        prenom=input(\"prenom: \")\n",
        "        rueNum=input(\"Adresse (N° et rue): \")\n",
        "        cPost=input(\"Code postal: \")\n",
        "        local=input(\"Localité: \")\n",
        "        tel=input(\"N° de téléphone: \")\n",
        "        return[nom,prenom,cPost,local,tel]\n",
        "f=open(\"membres.txt\",\"w\")\n",
        "while 1:\n",
        "    tt=creation()\n",
        "    if tt==[]:\n",
        "        break\n",
        "    i=0\n",
        "    while i<len(tt):\n",
        "        f.write(tt[i]+'#')\n",
        "        i=i+1\n",
        "    f.write(\"\\n\")\n",
        "f.close()\n"
      ],
      "metadata": {
        "id": "Vs4NKBOOx0dc"
      },
      "execution_count": null,
      "outputs": []
    }
  ]
}